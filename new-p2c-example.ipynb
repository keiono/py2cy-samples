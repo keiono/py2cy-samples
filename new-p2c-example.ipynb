{
 "cells": [
  {
   "cell_type": "markdown",
   "metadata": {},
   "source": [
    "# Basic Introduction for latest version of py2cytoscape\n",
    "\n",
    "by Keiichiro ONO (kono at ucsd edu)\n",
    "\n",
    "## Intro\n",
    "Since future versions of py2cytoscape will not support methods under _data_, the following is the recommnended way to use basic py2cytoscape features. "
   ]
  },
  {
   "cell_type": "code",
   "execution_count": 4,
   "metadata": {},
   "outputs": [],
   "source": [
    "# Import the client\n",
    "from py2cytoscape import cyrest"
   ]
  },
  {
   "cell_type": "code",
   "execution_count": 5,
   "metadata": {},
   "outputs": [
    {
     "name": "stdout",
     "output_type": "stream",
     "text": [
      "apiVersion v1\n",
      "cytoscapeVersion 3.7.1\n"
     ]
    }
   ],
   "source": [
    "# Initialization and checling the connection to Cytoscape\n",
    "cy=cyrest.cyclient()\n",
    "cy.version()"
   ]
  },
  {
   "cell_type": "code",
   "execution_count": 6,
   "metadata": {},
   "outputs": [],
   "source": [
    "# Create a new session (Dlete ALL data in current session)\n",
    "cytoscape.session.new()"
   ]
  },
  {
   "cell_type": "code",
   "execution_count": 10,
   "metadata": {},
   "outputs": [],
   "source": [
    "# Import CX related utilities (Install with _pip install ndex2_ before execute this line)\n",
    "import ndex2"
   ]
  },
  {
   "cell_type": "code",
   "execution_count": 29,
   "metadata": {},
   "outputs": [],
   "source": [
    "# Create graph with networkX\n",
    "import networkx as nx\n",
    "g = nx.scale_free_graph(20)\n",
    "deg = nx.degree(g)\n",
    "btw = nx.betweenness_centrality(g)\n",
    "nx.set_node_attributes(g, 'degree', deg)"
   ]
  },
  {
   "cell_type": "code",
   "execution_count": 30,
   "metadata": {},
   "outputs": [],
   "source": [
    "# Convert NetworkX object to CX\n",
    "cx = ndex2.create_nice_cx_from_networkx(g)"
   ]
  },
  {
   "cell_type": "code",
   "execution_count": 31,
   "metadata": {},
   "outputs": [],
   "source": [
    "cxDict = cx.to_cx()\n",
    "\n",
    "import json\n",
    "with open('py3sample_nx.cx', 'w') as outfile:\n",
    "    json.dump(cxDict, outfile)"
   ]
  },
  {
   "cell_type": "code",
   "execution_count": 32,
   "metadata": {},
   "outputs": [],
   "source": [
    "import requests"
   ]
  },
  {
   "cell_type": "code",
   "execution_count": 33,
   "metadata": {},
   "outputs": [
    {
     "data": {
      "text/plain": [
       "'{\"networkSUID\":3488}'"
      ]
     },
     "execution_count": 33,
     "metadata": {},
     "output_type": "execute_result"
    }
   ],
   "source": [
    "\n",
    "url = 'http://localhost:1234/v1/networks?format=cx'\n",
    "response1 = requests.post(url, data=json.dumps(cxDict))\n",
    "response1.text\n"
   ]
  },
  {
   "cell_type": "code",
   "execution_count": null,
   "metadata": {},
   "outputs": [],
   "source": []
  }
 ],
 "metadata": {
  "kernelspec": {
   "display_name": "Python 3",
   "language": "python",
   "name": "python3"
  },
  "language_info": {
   "codemirror_mode": {
    "name": "ipython",
    "version": 3
   },
   "file_extension": ".py",
   "mimetype": "text/x-python",
   "name": "python",
   "nbconvert_exporter": "python",
   "pygments_lexer": "ipython3",
   "version": "3.6.8"
  }
 },
 "nbformat": 4,
 "nbformat_minor": 2
}
